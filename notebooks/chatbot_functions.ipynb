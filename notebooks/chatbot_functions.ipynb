{
 "cells": [
  {
   "cell_type": "code",
   "execution_count": 3,
   "metadata": {},
   "outputs": [
    {
     "name": "stdout",
     "output_type": "stream",
     "text": [
      "Greetings! What scientific wonders can I help you with today?\n"
     ]
    }
   ],
   "source": [
    "import random\n",
    "\n",
    "# Predefined list of greetings\n",
    "greetings = [\n",
    "    \"Hello! I'm your science chatbot. How can I assist you today?\",\n",
    "    \"Hi there! Ready to explore some science with me?\",\n",
    "    \"Greetings! What scientific wonders can I help you with today?\",\n",
    "    \"Hello! Let's dive into the world of science together!\",\n",
    "    \"Hey! I'm here to answer your science questions. What do you want to know?\"\n",
    "]\n",
    "\n",
    "# Option 1: Randomly select a greeting from the list\n",
    "def greet_user():\n",
    "    return random.choice(greetings)\n",
    "\n",
    "\n",
    "\n",
    "# Example usage\n",
    "if __name__ == \"__main__\":\n",
    "    print(greet_user())  # Random greeting\n",
    "    "
   ]
  },
  {
   "cell_type": "code",
   "execution_count": 4,
   "metadata": {},
   "outputs": [
    {
     "name": "stdout",
     "output_type": "stream",
     "text": [
      "Hello! Let's dive into the world of science together!\n"
     ]
    }
   ],
   "source": [
    "# Greeting function test\n",
    "import random\n",
    "\n",
    "greetings = [\n",
    "    \"Hello! I'm your science chatbot. How can I assist you today?\",\n",
    "    \"Hi there! Ready to explore some science with me?\",\n",
    "    \"Greetings! What scientific wonders can I help you with today?\",\n",
    "    \"Hello! Let's dive into the world of science together!\",\n",
    "    \"Hey! I'm here to answer your science questions. What do you want to know?\"\n",
    "]\n",
    "\n",
    "def greet_user():\n",
    "    return random.choice(greetings)\n",
    "\n",
    "# Test Greeting\n",
    "print(greet_user())\n"
   ]
  },
  {
   "cell_type": "code",
   "execution_count": 5,
   "metadata": {},
   "outputs": [
    {
     "name": "stdout",
     "output_type": "stream",
     "text": [
      "\n",
      "--- Start a new conversation ---\n",
      "Chatbot: Hey! Let's dive into the world of science!\n",
      "Chatbot: Profile for Amrita saved!\n",
      "Chatbot: Profiles saved to profiles.json!\n",
      "Chatbot: Goodbye!\n",
      "\n",
      "Final Profiles Data: {'Amrita': {'age': 30}}\n"
     ]
    }
   ],
   "source": [
    "import json\n",
    "import random\n",
    "\n",
    "# Initialize the profiles data\n",
    "profile_data = {}\n",
    "\n",
    "# Greeting responses\n",
    "greetings = [\n",
    "    \"Hi there! I am your science chatbot.\",\n",
    "    \"Hello! Ready to learn some science?\",\n",
    "    \"Hey! Let's dive into the world of science!\",\n",
    "    \"Hi! How can I make your day more scientific?\"\n",
    "]\n",
    "\n",
    "# Function to handle greetings and profile creation\n",
    "def handle_greeting_and_profile():\n",
    "    # Greet the user\n",
    "    user_input = input(\"You: \").strip().lower()\n",
    "    if \"hello\" in user_input or \"hi\" in user_input:\n",
    "        # Respond with a random greeting\n",
    "        bot_greeting = random.choice(greetings)\n",
    "        print(f\"Chatbot: {bot_greeting}\")\n",
    "        \n",
    "        # Ask for the user's name\n",
    "        name = input(\"Chatbot: May I know your name? \").strip()\n",
    "        \n",
    "        # Ask for the user's age\n",
    "        while True:\n",
    "            try:\n",
    "                age = int(input(f\"Chatbot: Hi {name}, how old are you? \").strip())\n",
    "                break\n",
    "            except ValueError:\n",
    "                print(\"Chatbot: Please enter a valid number for your age.\")\n",
    "        \n",
    "        # Save the profile (overwrite logic if more than 5 profiles)\n",
    "        if len(profile_data) >= 5:\n",
    "            # Overwrite the oldest profile (FIFO logic)\n",
    "            first_key = list(profile_data.keys())[0]\n",
    "            del profile_data[first_key]\n",
    "        \n",
    "        profile_data[name] = {\"age\": age}\n",
    "        print(f\"Chatbot: Profile for {name} saved!\")\n",
    "        \n",
    "        # Save to JSON\n",
    "        save_to_json()\n",
    "    else:\n",
    "        print(\"Chatbot: Sorry, I didn't understand that. Please start with 'Hello' or 'Hi'.\")\n",
    "\n",
    "# Save profiles to a JSON file\n",
    "def save_to_json(file_path=\"profiles.json\"):\n",
    "    with open(file_path, \"w\") as file:\n",
    "        json.dump(profile_data, file, indent=4)\n",
    "    print(\"Chatbot: Profiles saved to profiles.json!\")\n",
    "\n",
    "# Main loop to test the functionality\n",
    "while True:\n",
    "    print(\"\\n--- Start a new conversation ---\")\n",
    "    handle_greeting_and_profile()\n",
    "    \n",
    "    # Ask if the user wants to continue\n",
    "    another_conversation = input(\"Chatbot: Do you want to add another profile? (yes/no): \").strip().lower()\n",
    "    if another_conversation != \"yes\":\n",
    "        print(\"Chatbot: Goodbye!\")\n",
    "        break\n",
    "\n",
    "# Output the final profile data\n",
    "print(\"\\nFinal Profiles Data:\", profile_data)\n"
   ]
  },
  {
   "cell_type": "code",
   "execution_count": null,
   "metadata": {},
   "outputs": [],
   "source": [
    "import json\n",
    "import random\n",
    "\n",
    "# Initialize the profiles data\n",
    "profile_data = {}\n",
    "\n",
    "# Greeting responses\n",
    "greetings = [\n",
    "    \"Hi there! I am your science chatbot.\",\n",
    "    \"Hello! Ready to learn some science?\",\n",
    "    \"Hey! Let's dive into the world of science!\",\n",
    "    \"Hi! How can I make your day more scientific?\"\n",
    "]\n",
    "\n",
    "# Function to handle greetings and profile creation\n",
    "def handle_greeting_and_profile():\n",
    "    # Greet the user\n",
    "    user_input = input(\"You: \").strip().lower()\n",
    "    if \"hello\" in user_input or \"hi\" in user_input:\n",
    "        # Respond with a random greeting\n",
    "        bot_greeting = random.choice(greetings)\n",
    "        print(f\"Chatbot: {bot_greeting}\")\n",
    "        \n",
    "        # Ask for the user's name\n",
    "        name = input(\"Chatbot: May I know your name? \").strip()\n",
    "        \n",
    "        # Ask for the user's age\n",
    "        while True:\n",
    "            try:\n",
    "                age = int(input(f\"Chatbot: Hi {name}, how old are you? \").strip())\n",
    "                break\n",
    "            except ValueError:\n",
    "                print(\"Chatbot: Please enter a valid number for your age.\")\n",
    "        \n",
    "        # Save the profile (overwrite logic if more than 5 profiles)\n",
    "        if len(profile_data) >= 5:\n",
    "            # Overwrite the oldest profile (FIFO logic)\n",
    "            first_key = list(profile_data.keys())[0]\n",
    "            del profile_data[first_key]\n",
    "        \n",
    "        profile_data[name] = {\"age\": age}\n",
    "        print(f\"Chatbot: Profile for {name} saved!\")\n",
    "        \n",
    "        # Save to JSON\n",
    "        save_to_json()\n",
    "\n",
    "        # Proceed to options\n",
    "        show_options(name, age)\n",
    "    else:\n",
    "        print(\"Chatbot: Sorry, I didn't understand that. Please start with 'Hello' or 'Hi'.\")\n",
    "\n",
    "# Save profiles to a JSON file\n",
    "def save_to_json(file_path=\"profiles.json\"):\n",
    "    with open(file_path, \"w\") as file:\n",
    "        json.dump(profile_data, file, indent=4)\n",
    "    print(\"Chatbot: Profiles saved to profiles.json!\")\n",
    "\n",
    "# Function to show menu options\n",
    "def show_options(name, age):\n",
    "    while True:\n",
    "        print(\"\\nChatbot: Great! Here’s what we can do:\")\n",
    "        print(\"1. Science Quiz (Difficulty adjusts based on age)\")\n",
    "        print(\"2. Learn Science (Ask me any science question!)\")\n",
    "        print(\"3. Talk to a Scientist (Choose from famous profiles)\")\n",
    "        print(\"4. Talk to a Thing (Interact with planets, particles, etc.)\")\n",
    "        print(\"5. Convert Equation to LaTeX (Input an image)\")\n",
    "        print(\"6. Exit\")\n",
    "        \n",
    "        choice = input(\"Chatbot: Please choose an option (1-6): \").strip()\n",
    "        \n",
    "        if choice == \"1\":\n",
    "            start_science_quiz(age)\n",
    "        elif choice == \"2\":\n",
    "            learn_science()\n",
    "        elif choice == \"3\":\n",
    "            talk_to_scientist()\n",
    "        elif choice == \"4\":\n",
    "            talk_to_thing()\n",
    "        elif choice == \"5\":\n",
    "            convert_to_latex()\n",
    "        elif choice == \"6\":\n",
    "            print(\"Chatbot: Goodbye! See you next time!\")\n",
    "            break\n",
    "        else:\n",
    "            print(\"Chatbot: Invalid choice. Please select a valid option.\")\n",
    "\n",
    "\n",
    "# Main loop to test the functionality\n",
    "print(\"\\n--- Start a new conversation ---\")\n",
    "handle_greeting_and_profile()\n"
   ]
  },
  {
   "cell_type": "code",
   "execution_count": null,
   "metadata": {},
   "outputs": [],
   "source": [
    "# Placeholder functions for options\n",
    "def start_science_quiz(age):\n",
    "    level = \"higher\" if age > 12 else \"lower\"\n",
    "    print(f\"Chatbot: Starting a {level} difficulty science quiz! (Quiz logic here)\")\n",
    "\n",
    "def learn_science():\n",
    "    question = input(\"Chatbot: Ask me any science question: \").strip()\n",
    "    print(f\"Chatbot: Fetching the answer for '{question}'... (Answer logic here)\")\n",
    "\n",
    "def talk_to_scientist():\n",
    "    print(\"Chatbot: Choose a scientist to talk to:\")\n",
    "    scientists = [\"1. Albert Einstein\", \"2. Isaac Newton\", \"3. Erwin Schrödinger\"]\n",
    "    for s in scientists:\n",
    "        print(s)\n",
    "    choice = input(\"Chatbot: Who do you want to talk to? (1-3): \").strip()\n",
    "    print(f\"Chatbot: Let's talk to {scientists[int(choice)-1][3:]}. (Conversation logic here)\")\n",
    "\n",
    "def talk_to_thing():\n",
    "    print(\"Chatbot: Choose a thing to talk to:\")\n",
    "    things = [\"1. Proton\", \"2. Electron\", \"3. Photon\", \"4. Mars\"]\n",
    "    for t in things:\n",
    "        print(t)\n",
    "    choice = input(\"Chatbot: Who do you want to talk to? (1-4): \").strip()\n",
    "    print(f\"Chatbot: Let's talk to {things[int(choice)-1][3:]}. (Conversation logic here)\")\n",
    "\n",
    "def convert_to_latex():\n",
    "    print(\"Chatbot: Please provide an image of the equation to convert it to LaTeX.\")\n",
    "    # (Logic for image input and LaTeX conversion here)\n",
    "    print(\"Chatbot: (LaTeX conversion logic here)\")\n"
   ]
  },
  {
   "cell_type": "code",
   "execution_count": 20,
   "metadata": {},
   "outputs": [],
   "source": [
    "def learn_science():\n",
    "    question = input(\"Chatbot: Ask me any science question: \").strip()\n",
    "    \n",
    "    context = get_scientific_context()  # Get context based on the question (could be a pre-set list or fetched dynamically)\n",
    "    \n",
    "    answer = qa_pipeline(question=question, context=context)\n",
    "    \n",
    "    print(f\"Chatbot: {answer['answer']}\")\n",
    "# Assuming you have a function to provide relevant scientific context\n",
    "def get_scientific_context():\n",
    "    return \"\"\"\n",
    "    Albert Einstein's theory of relativity, or the general theory of relativity, describes the gravitational force as a result of the curvature of space and time caused by mass and energy.\n",
    "    It explains how objects move in the presence of gravitational forces and is fundamental to modern physics.\n",
    "    \"\"\"\n",
    "\n"
   ]
  },
  {
   "cell_type": "code",
   "execution_count": 21,
   "metadata": {},
   "outputs": [
    {
     "ename": "NameError",
     "evalue": "name 'qa_pipeline' is not defined",
     "output_type": "error",
     "traceback": [
      "\u001b[1;31m---------------------------------------------------------------------------\u001b[0m",
      "\u001b[1;31mNameError\u001b[0m                                 Traceback (most recent call last)",
      "Cell \u001b[1;32mIn[21], line 1\u001b[0m\n\u001b[1;32m----> 1\u001b[0m \u001b[43mlearn_science\u001b[49m\u001b[43m(\u001b[49m\u001b[43m)\u001b[49m\n",
      "Cell \u001b[1;32mIn[20], line 6\u001b[0m, in \u001b[0;36mlearn_science\u001b[1;34m()\u001b[0m\n\u001b[0;32m      2\u001b[0m question \u001b[38;5;241m=\u001b[39m \u001b[38;5;28minput\u001b[39m(\u001b[38;5;124m\"\u001b[39m\u001b[38;5;124mChatbot: Ask me any science question: \u001b[39m\u001b[38;5;124m\"\u001b[39m)\u001b[38;5;241m.\u001b[39mstrip()\n\u001b[0;32m      4\u001b[0m context \u001b[38;5;241m=\u001b[39m get_scientific_context()  \u001b[38;5;66;03m# Get context based on the question (could be a pre-set list or fetched dynamically)\u001b[39;00m\n\u001b[1;32m----> 6\u001b[0m answer \u001b[38;5;241m=\u001b[39m \u001b[43mqa_pipeline\u001b[49m(question\u001b[38;5;241m=\u001b[39mquestion, context\u001b[38;5;241m=\u001b[39mcontext)\n\u001b[0;32m      8\u001b[0m \u001b[38;5;28mprint\u001b[39m(\u001b[38;5;124mf\u001b[39m\u001b[38;5;124m\"\u001b[39m\u001b[38;5;124mChatbot: \u001b[39m\u001b[38;5;132;01m{\u001b[39;00manswer[\u001b[38;5;124m'\u001b[39m\u001b[38;5;124manswer\u001b[39m\u001b[38;5;124m'\u001b[39m]\u001b[38;5;132;01m}\u001b[39;00m\u001b[38;5;124m\"\u001b[39m)\n",
      "\u001b[1;31mNameError\u001b[0m: name 'qa_pipeline' is not defined"
     ]
    }
   ],
   "source": [
    "learn_science()"
   ]
  },
  {
   "cell_type": "code",
   "execution_count": 22,
   "metadata": {},
   "outputs": [
    {
     "ename": "",
     "evalue": "",
     "output_type": "error",
     "traceback": [
      "\u001b[1;31mThe Kernel crashed while executing code in the current cell or a previous cell. \n",
      "\u001b[1;31mPlease review the code in the cell(s) to identify a possible cause of the failure. \n",
      "\u001b[1;31mClick <a href='https://aka.ms/vscodeJupyterKernelCrash'>here</a> for more info. \n",
      "\u001b[1;31mView Jupyter <a href='command:jupyter.viewOutput'>log</a> for further details."
     ]
    }
   ],
   "source": [
    "from transformers import pipeline\n",
    "\n",
    "# Initialize the Hugging Face question-answering pipeline\n",
    "qa_pipeline = pipeline(\"question-answering\")\n"
   ]
  },
  {
   "cell_type": "code",
   "execution_count": 1,
   "metadata": {},
   "outputs": [
    {
     "ename": "",
     "evalue": "",
     "output_type": "error",
     "traceback": [
      "\u001b[1;31mThe Kernel crashed while executing code in the current cell or a previous cell. \n",
      "\u001b[1;31mPlease review the code in the cell(s) to identify a possible cause of the failure. \n",
      "\u001b[1;31mClick <a href='https://aka.ms/vscodeJupyterKernelCrash'>here</a> for more info. \n",
      "\u001b[1;31mView Jupyter <a href='command:jupyter.viewOutput'>log</a> for further details."
     ]
    }
   ],
   "source": [
    "from transformers import pipeline, Conversation\n",
    "import random\n",
    "import re\n",
    "import pyttsx3\n",
    "\n",
    "# Load the Hugging Face conversational model (DialoGPT)\n",
    "chatbot = pipeline('conversational', model='microsoft/DialoGPT-medium')\n",
    "\n",
    "# Initialize the TTS engine (for pyttsx3)\n",
    "engine = pyttsx3.init()\n",
    "\n",
    "# Function to speak the text\n",
    "def t2s(text):\n",
    "    engine.say(text)\n",
    "    engine.runAndWait()\n",
    "\n",
    "# Function to generate response from the chatbot model\n",
    "def chatbot_response(user_input):\n",
    "    # Create a Conversation object from the user input\n",
    "    conversation = Conversation(user_input)\n",
    "    \n",
    "    # Get the bot's response from DialoGPT using the Conversation object\n",
    "    response = chatbot(conversation)\n",
    "    return response[0]['generated_text']\n",
    "\n",
    "# Function to simulate a voice input (replace with actual mic input in a real application)\n",
    "def mic_input():\n",
    "    user_input = input(\"You: \")  # Simulating microphone input as text\n",
    "    return user_input\n",
    "\n",
    "# Main function to start the assistant\n",
    "def start():\n",
    "    while True:\n",
    "        print(\"Continue listening, say 'stop listening' to stop.\")\n",
    "        res = mic_input()  # Use your microphone input method here\n",
    "        print(f\"You said: {res}\")\n",
    "\n",
    "        if re.search(\"joke|jokes|tell me a joke\", res, re.IGNORECASE):\n",
    "            joke_ = \"Why don't skeletons fight each other? They don't have the guts!\"  # Can customize\n",
    "            print(joke_)\n",
    "            t2s(joke_)\n",
    "\n",
    "        elif re.search(\"how are you\", res, re.IGNORECASE):\n",
    "            response = random.choice(['I am good!', 'I am doing great, thanks for asking!'])\n",
    "            print(response)\n",
    "            t2s(response)\n",
    "\n",
    "        elif re.search(\"your name|who are you\", res, re.IGNORECASE):\n",
    "            print(\"I am your personal assistant.\")\n",
    "            t2s(\"I am your personal assistant.\")\n",
    "\n",
    "        elif re.search(\"what can you do\", res, re.IGNORECASE):\n",
    "            commands = {\n",
    "                \"tell jokes\": \"Example: 'tell me a joke'\",\n",
    "                \"weather\": \"Example: 'tell me the weather in Mumbai'\",\n",
    "                \"time\": \"Example: 'what time is it?'\",\n",
    "                \"date\": \"Example: 'what date is it today?'\",\n",
    "                \"open websites\": \"Example: 'open youtube.com'\",\n",
    "                \"launch apps\": \"Example: 'launch chrome'\",\n",
    "            }\n",
    "            command_info = \"I can perform several tasks, such as telling jokes, opening websites, and more.\"\n",
    "            print(command_info)\n",
    "            t2s(command_info)\n",
    "            print(commands)\n",
    "            t2s(\"You can ask me to perform several tasks like telling jokes, providing the weather, and more.\")\n",
    "\n",
    "        elif re.search(\"stop listening|stop\", res, re.IGNORECASE):\n",
    "            print(\"Goodbye! I'll stop listening now.\")\n",
    "            break  # Exit the loop\n",
    "\n",
    "        else:\n",
    "            # If the command doesn't match, engage in a conversation with the chatbot\n",
    "            chatbot_reply = chatbot_response(res)\n",
    "            print(f\"Bot: {chatbot_reply}\")\n",
    "            t2s(chatbot_reply)\n",
    "\n",
    "# Start the assistant when the script runs\n",
    "if __name__ == \"__main__\":\n",
    "    start()\n"
   ]
  },
  {
   "cell_type": "code",
   "execution_count": 4,
   "metadata": {},
   "outputs": [
    {
     "name": "stdout",
     "output_type": "stream",
     "text": [
      "Requirement already satisfied: sympy in c:\\users\\sarat\\miniforge3\\envs\\group11env\\lib\\site-packages (1.13.1)\n",
      "Requirement already satisfied: mpmath<1.4,>=1.1.0 in c:\\users\\sarat\\miniforge3\\envs\\group11env\\lib\\site-packages (from sympy) (1.3.0)\n",
      "Note: you may need to restart the kernel to use updated packages.\n"
     ]
    }
   ],
   "source": [
    "pip install sympy"
   ]
  },
  {
   "cell_type": "code",
   "execution_count": 5,
   "metadata": {},
   "outputs": [],
   "source": [
    "from sympy import sympify, latex\n",
    "\n",
    "def convert_to_latex(equation):\n",
    "    try:\n",
    "        sympy_eq = sympify(equation)\n",
    "        return latex(sympy_eq)\n",
    "    except Exception as e:\n",
    "        return str(e)"
   ]
  },
  {
   "cell_type": "code",
   "execution_count": 8,
   "metadata": {},
   "outputs": [
    {
     "name": "stdout",
     "output_type": "stream",
     "text": [
      "Input equation: x^2=4\n",
      "Error converting to LaTeX: Sympify of expression 'could not parse 'x^2=4'' failed, because of exception being raised:\n",
      "SyntaxError: invalid syntax (<string>, line 1)\n"
     ]
    },
    {
     "data": {
      "text/plain": [
       "\"Error: Unable to parse equation. Sympify of expression 'could not parse 'x^2=4'' failed, because of exception being raised:\\nSyntaxError: invalid syntax (<string>, line 1)\""
      ]
     },
     "execution_count": 8,
     "metadata": {},
     "output_type": "execute_result"
    }
   ],
   "source": [
    "convert_to_latex(\"x^2=4\")"
   ]
  },
  {
   "cell_type": "code",
   "execution_count": 7,
   "metadata": {},
   "outputs": [],
   "source": [
    "from sympy import sympify, latex\n",
    "\n",
    "def convert_to_latex(equation):\n",
    "    try:\n",
    "        # Log or print the input equation for debugging\n",
    "        print(f\"Input equation: {equation}\")\n",
    "        \n",
    "        # Sympify the equation\n",
    "        sympy_eq = sympify(equation)\n",
    "        return latex(sympy_eq)\n",
    "    except Exception as e:\n",
    "        # Log the exception\n",
    "        print(f\"Error converting to LaTeX: {e}\")\n",
    "        return f\"Error: Unable to parse equation. {e}\"\n"
   ]
  },
  {
   "cell_type": "code",
   "execution_count": 9,
   "metadata": {},
   "outputs": [
    {
     "name": "stdout",
     "output_type": "stream",
     "text": [
      "Equation: x^2 + y^2 = z^2\n",
      "Input equation: x^2 + y^2 = z^2\n",
      "Error converting to LaTeX: Sympify of expression 'could not parse 'x^2 + y^2 = z^2'' failed, because of exception being raised:\n",
      "SyntaxError: invalid syntax (<string>, line 1)\n",
      "LaTeX: Error: Unable to parse equation. Sympify of expression 'could not parse 'x^2 + y^2 = z^2'' failed, because of exception being raised:\n",
      "SyntaxError: invalid syntax (<string>, line 1)\n",
      "\n",
      "Equation: sin(x) + cos(y)\n",
      "Input equation: sin(x) + cos(y)\n",
      "LaTeX: \\sin{\\left(x \\right)} + \\cos{\\left(y \\right)}\n",
      "\n",
      "Equation: 1/2 * pi * r^2\n",
      "Input equation: 1/2 * pi * r^2\n",
      "LaTeX: \\frac{\\pi r^{2}}{2}\n",
      "\n",
      "Equation: x**2 + 3*x - 4\n",
      "Input equation: x**2 + 3*x - 4\n",
      "LaTeX: x^{2} + 3 x - 4\n",
      "\n"
     ]
    }
   ],
   "source": [
    "# Examples of valid equations\n",
    "test_equations = [\n",
    "    \"x^2 + y^2 = z^2\",\n",
    "    \"sin(x) + cos(y)\",\n",
    "    \"1/2 * pi * r^2\",\n",
    "    \"x**2 + 3*x - 4\",\n",
    "]\n",
    "\n",
    "for eq in test_equations:\n",
    "    print(f\"Equation: {eq}\")\n",
    "    print(f\"LaTeX: {convert_to_latex(eq)}\\n\")\n"
   ]
  },
  {
   "cell_type": "code",
   "execution_count": 10,
   "metadata": {},
   "outputs": [],
   "source": [
    "def convert_to_latex(equation):\n",
    "    try:\n",
    "        print(f\"Debugging input equation: {equation}\")\n",
    "        sympy_eq = sympify(equation)\n",
    "        return latex(sympy_eq)\n",
    "    except Exception as e:\n",
    "        print(f\"Error occurred: {e}\")\n",
    "        return f\"Error converting equation: {e}\"\n"
   ]
  },
  {
   "cell_type": "code",
   "execution_count": 13,
   "metadata": {},
   "outputs": [
    {
     "data": {
      "text/plain": [
       "'x^{2} + 2 x + 1'"
      ]
     },
     "execution_count": 13,
     "metadata": {},
     "output_type": "execute_result"
    }
   ],
   "source": [
    "convert_to_latex(\"x**2 + 2*x + 1\")"
   ]
  },
  {
   "cell_type": "code",
   "execution_count": 12,
   "metadata": {},
   "outputs": [],
   "source": [
    "from sympy import sympify, latex, Eq\n",
    "import re\n",
    "\n",
    "def convert_to_latex(equation):\n",
    "    try:\n",
    "        # Replace '^' with '**' for exponentiation\n",
    "        equation = equation.replace(\"^\", \"**\")\n",
    "\n",
    "        # Check if it's an equation (contains '=')\n",
    "        if \"=\" in equation:\n",
    "            lhs, rhs = map(str.strip, equation.split(\"=\"))\n",
    "            sympy_eq = Eq(sympify(lhs), sympify(rhs))\n",
    "        else:\n",
    "            sympy_eq = sympify(equation)\n",
    "\n",
    "        # Convert to LaTeX\n",
    "        return latex(sympy_eq)\n",
    "    except SyntaxError:\n",
    "        return \"Syntax error: Please check your equation syntax.\"\n",
    "    except Exception as e:\n",
    "        return f\"Error: Unable to process the equation. {e}\""
   ]
  },
  {
   "cell_type": "code",
   "execution_count": 14,
   "metadata": {},
   "outputs": [],
   "source": [
    "from sympy import sympify, latex, Eq\n",
    "import re\n",
    "\n",
    "def convert_to_latex(equation):\n",
    "    try:\n",
    "        # Replace '^' with '**' for exponentiation\n",
    "        equation = equation.replace(\"^\", \"**\")\n",
    "\n",
    "        # Handle equations with '='\n",
    "        if \"=\" in equation:\n",
    "            lhs, rhs = map(str.strip, equation.split(\"=\"))\n",
    "            if not lhs or not rhs:\n",
    "                raise ValueError(\"Invalid equation: Both sides of '=' must be non-empty.\")\n",
    "            sympy_eq = Eq(sympify(lhs), sympify(rhs))\n",
    "        else:\n",
    "            # Handle single expressions\n",
    "            sympy_eq = sympify(equation)\n",
    "\n",
    "        # Convert to LaTeX\n",
    "        latex_code = latex(sympy_eq)\n",
    "\n",
    "        # Post-process LaTeX output for better formatting\n",
    "        latex_code = re.sub(r'\\\\textasciicircum', '^', latex_code)  # Fix exponentiation symbol\n",
    "        latex_code = re.sub(r'\\\\mathtt\\{\\\\text\\{(.+?)\\}\\}', r'\\1', latex_code)  # Clean up \\mathtt artifacts\n",
    "\n",
    "        return latex_code\n",
    "    except SyntaxError:\n",
    "        return \"Syntax error: Please check your equation syntax.\"\n",
    "    except ValueError as ve:\n",
    "        return str(ve)\n",
    "    except Exception as e:\n",
    "        return f\"Error: Unable to process the equation. {e}\"\n"
   ]
  },
  {
   "cell_type": "code",
   "execution_count": 15,
   "metadata": {},
   "outputs": [
    {
     "data": {
      "text/plain": [
       "'x^{2} = 4'"
      ]
     },
     "execution_count": 15,
     "metadata": {},
     "output_type": "execute_result"
    }
   ],
   "source": [
    "convert_to_latex(\"x^2=4\")"
   ]
  },
  {
   "cell_type": "code",
   "execution_count": 19,
   "metadata": {},
   "outputs": [
    {
     "name": "stdout",
     "output_type": "stream",
     "text": [
      "Hi there! Can you tell me your name?\n",
      "Nice to meet you, John! How old are you?\n",
      "Got it! You're 25 years old. What would you like to do today?\n"
     ]
    }
   ],
   "source": [
    "import json\n",
    "import random\n",
    "import os\n",
    "\n",
    "USER_DATA_FILE = \"user_data.json\"\n",
    "\n",
    "# Utility functions\n",
    "def get_user_data():\n",
    "    \"\"\"Retrieve user data from a file.\"\"\"\n",
    "    if not os.path.exists(USER_DATA_FILE):\n",
    "        return {}\n",
    "    with open(USER_DATA_FILE, \"r\") as f:\n",
    "        return json.load(f)\n",
    "\n",
    "\n",
    "def save_user_data(data):\n",
    "    \"\"\"Save user data to a file.\"\"\"\n",
    "    with open(USER_DATA_FILE, \"w\") as f:\n",
    "        json.dump(data, f, indent=4)\n",
    "\n",
    "\n",
    "# Greeting function\n",
    "def greeting_function(user_input):\n",
    "    \"\"\"Handle the greeting and user information capture.\"\"\"\n",
    "    # Possible greetings\n",
    "    greetings = [\n",
    "        \"Hello! What's your name?\",\n",
    "        \"Hi there! Can you tell me your name?\",\n",
    "        \"Hey! May I know your name?\",\n",
    "    ]\n",
    "    user_data = get_user_data()\n",
    "\n",
    "    # Random greeting response\n",
    "    response = random.choice(greetings)\n",
    "\n",
    "    # Check if user is providing a name\n",
    "    if user_input.strip().lower() in [\"hi\", \"hello\", \"hey\", \"hi there\"]:\n",
    "        return response\n",
    "\n",
    "    # Process user name\n",
    "    if \"name:\" in user_input.lower():\n",
    "        name = user_input.split(\":\", 1)[1].strip()\n",
    "        if name in user_data:\n",
    "            age = user_data[name].get(\"age\")\n",
    "            return f\"Welcome back, {name}! What would you like to do today?\"\n",
    "        else:\n",
    "            user_data[name] = {}  # Create a new entry for the name\n",
    "            save_user_data(user_data)\n",
    "            return f\"Nice to meet you, {name}! How old are you?\"\n",
    "\n",
    "    # Process user age\n",
    "    if \"age:\" in user_input.lower():\n",
    "        # Extract name and age from input\n",
    "        age = user_input.split(\":\", 1)[1].strip()\n",
    "        for user in user_data:\n",
    "            if not user_data[user].get(\"age\"):\n",
    "                user_data[user][\"age\"] = age\n",
    "                save_user_data(user_data)\n",
    "                return f\"Got it! You're {age} years old. What would you like to do today?\"\n",
    "\n",
    "    # Default response\n",
    "    return \"I'm sorry, I didn't understand that. Can you provide your name as 'Name: your_name' or your age as 'Age: your_age'?\"\n",
    "\n",
    "\n",
    "# Example usage (can be called in the main Flask app)\n",
    "if __name__ == \"__main__\":\n",
    "    print(greeting_function(\"Hi\"))\n",
    "    print(greeting_function(\"Name: John\"))\n",
    "    print(greeting_function(\"Age: 25\"))\n"
   ]
  },
  {
   "cell_type": "code",
   "execution_count": 18,
   "metadata": {},
   "outputs": [
    {
     "data": {
      "text/plain": [
       "{'bot_message': 'Hey! Nice to see you! May I know your name?',\n",
       " 'expect_name': True}"
      ]
     },
     "execution_count": 18,
     "metadata": {},
     "output_type": "execute_result"
    }
   ],
   "source": [
    "greeting(\"hello\")"
   ]
  },
  {
   "cell_type": "code",
   "execution_count": 2,
   "metadata": {},
   "outputs": [],
   "source": [
    "import requests\n",
    "\n",
    "def get_weather(city):\n",
    "    try:\n",
    "        # Replace with the appropriate city and API key\n",
    "        #city = \"London\"  # You can replace this with dynamic user input for other cities\n",
    "        api_key = \"5bd569ef15994e94db0132c4cf485649\"\n",
    "        \n",
    "        # Construct the API URL\n",
    "        url = f\"http://api.openweathermap.org/data/2.5/weather?q={city}&appid={api_key}&units=metric\"\n",
    "        \n",
    "        # Make the request to the OpenWeatherMap API\n",
    "        response = requests.get(url)\n",
    "        \n",
    "        # Check if the response is successful\n",
    "        if response.status_code == 200:\n",
    "            data = response.json()\n",
    "            \n",
    "            # Extract relevant weather data from the response\n",
    "            weather_description = data['weather'][0]['description']\n",
    "            temperature = data['main']['temp']\n",
    "            humidity = data['main']['humidity']\n",
    "            wind_speed = data['wind']['speed']\n",
    "            \n",
    "            # Format the response message\n",
    "            weather_info = f\"Weather in {city}:\\n\" \\\n",
    "                           f\"Description: {weather_description}\\n\" \\\n",
    "                           f\"Temperature: {temperature}°C\\n\" \\\n",
    "                           f\"Humidity: {humidity}%\\n\" \\\n",
    "                           f\"Wind Speed: {wind_speed} m/s\"\n",
    "            \n",
    "            return weather_info\n",
    "        else:\n",
    "            return \"Unable to fetch weather information at the moment.\"\n",
    "    except Exception as e:\n",
    "        return f\"Error: {str(e)}\"\n"
   ]
  },
  {
   "cell_type": "code",
   "execution_count": 3,
   "metadata": {},
   "outputs": [
    {
     "name": "stdout",
     "output_type": "stream",
     "text": [
      "Weather in kamloops:\n",
      "Description: broken clouds\n",
      "Temperature: 0.67°C\n",
      "Humidity: 81%\n",
      "Wind Speed: 1.03 m/s\n"
     ]
    }
   ],
   "source": [
    "print (get_weather(\"kamloops\"))"
   ]
  },
  {
   "cell_type": "code",
   "execution_count": 1,
   "metadata": {},
   "outputs": [],
   "source": [
    "# branch_bound.py\n",
    "import numpy as np\n",
    "from scipy.optimize import linprog\n",
    "\n",
    "def branch_and_bound(c, A_eq, b_eq, bounds, maximize=True):\n",
    "    \"\"\"\n",
    "    Solve an integer programming problem using Branch-and-Bound.\n",
    "\n",
    "    Parameters:\n",
    "        c: array-like\n",
    "            Coefficients of the objective function.\n",
    "        A_eq: array-like\n",
    "            Coefficients of the equality constraints.\n",
    "        b_eq: array-like\n",
    "            Right-hand side of the equality constraints.\n",
    "        bounds: list of tuples\n",
    "            Bounds for variables, e.g., [(0, None), (0, None)].\n",
    "        maximize: bool\n",
    "            True for maximization, False for minimization.\n",
    "\n",
    "    Returns:\n",
    "        dict: Optimal solution and value, or infeasibility status.\n",
    "    \"\"\"\n",
    "    if maximize:\n",
    "        c = -np.array(c)  # Negate for maximization\n",
    "\n",
    "    best_solution = None\n",
    "    best_value = -np.inf if maximize else np.inf\n",
    "    node_queue = [{'A_eq': A_eq, 'b_eq': b_eq, 'bounds': bounds}]\n",
    "\n",
    "    while node_queue:\n",
    "        current_node = node_queue.pop(0)\n",
    "        A_eq = current_node['A_eq']\n",
    "        b_eq = current_node['b_eq']\n",
    "        bounds = current_node['bounds']\n",
    "\n",
    "        res = linprog(c, A_eq=A_eq, b_eq=b_eq, bounds=bounds, method='highs')\n",
    "\n",
    "        if not res.success:\n",
    "            continue\n",
    "\n",
    "        x_relaxed = res.x\n",
    "        z_relaxed = -res.fun if maximize else res.fun\n",
    "\n",
    "        if np.all(np.mod(x_relaxed, 1) == 0):\n",
    "            if (maximize and z_relaxed > best_value) or (not maximize and z_relaxed < best_value):\n",
    "                best_solution = x_relaxed\n",
    "                best_value = z_relaxed\n",
    "            continue\n",
    "\n",
    "        fractional_index = np.argmax(np.abs(x_relaxed - np.round(x_relaxed)))\n",
    "        lower_bound = np.floor(x_relaxed[fractional_index])\n",
    "        upper_bound = np.ceil(x_relaxed[fractional_index])\n",
    "\n",
    "        lower_bounds = bounds.copy()\n",
    "        lower_bounds[fractional_index] = (bounds[fractional_index][0], lower_bound)\n",
    "\n",
    "        upper_bounds = bounds.copy()\n",
    "        upper_bounds[fractional_index] = (upper_bound, bounds[fractional_index][1])\n",
    "\n",
    "        node_queue.append({'A_eq': A_eq, 'b_eq': b_eq, 'bounds': lower_bounds})\n",
    "        node_queue.append({'A_eq': A_eq, 'b_eq': b_eq, 'bounds': upper_bounds})\n",
    "\n",
    "    if best_solution is not None:\n",
    "        return {\n",
    "            'solution': np.round(best_solution).astype(int).tolist(),\n",
    "            'objective_value': best_value\n",
    "        }\n",
    "    else:\n",
    "        return {\n",
    "            'status': 'Infeasible',\n",
    "        }\n"
   ]
  },
  {
   "cell_type": "code",
   "execution_count": 2,
   "metadata": {},
   "outputs": [
    {
     "name": "stdout",
     "output_type": "stream",
     "text": [
      "Problem Status: Infeasible\n"
     ]
    }
   ],
   "source": [
    "# Define the problem\n",
    "c = [1, 2]  # Objective function coefficients\n",
    "A_eq = [[-2, 7], [6, 2]]  # Equality constraint coefficients\n",
    "b_eq = [14, 27]  # RHS of constraints\n",
    "bounds = [(0, None), (0, None)]  # Variable bounds (x >= 0, y >= 0)\n",
    "\n",
    "# Call the branch_and_bound function\n",
    "result = branch_and_bound(c, A_eq, b_eq, bounds, maximize=True)\n",
    "\n",
    "# Display the result\n",
    "if 'solution' in result:\n",
    "    print(f\"Optimal Solution: {result['solution']}\")\n",
    "    print(f\"Objective Value: {result['objective_value']}\")\n",
    "else:\n",
    "    print(f\"Problem Status: {result['status']}\")\n"
   ]
  },
  {
   "cell_type": "code",
   "execution_count": null,
   "metadata": {},
   "outputs": [],
   "source": []
  },
  {
   "cell_type": "code",
   "execution_count": null,
   "metadata": {},
   "outputs": [],
   "source": []
  }
 ],
 "metadata": {
  "kernelspec": {
   "display_name": "adsc_3610",
   "language": "python",
   "name": "python3"
  },
  "language_info": {
   "codemirror_mode": {
    "name": "ipython",
    "version": 3
   },
   "file_extension": ".py",
   "mimetype": "text/x-python",
   "name": "python",
   "nbconvert_exporter": "python",
   "pygments_lexer": "ipython3",
   "version": "3.12.5"
  }
 },
 "nbformat": 4,
 "nbformat_minor": 2
}
